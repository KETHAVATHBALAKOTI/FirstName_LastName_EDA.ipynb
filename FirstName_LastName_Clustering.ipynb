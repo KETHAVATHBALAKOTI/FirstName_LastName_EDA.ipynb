# FirstName_LastName_Clustering.ipynb

import pandas as pd
from sklearn.preprocessing import StandardScaler

# Load the datasets
customers = pd.read_csv('Customers.csv')
products = pd.read_csv('Products.csv')
transactions = pd.read_csv('Transactions.csv')

# Merge transactions with customers data
data = transactions.merge(customers, on='CustomerID')

# Feature engineering
data['SignupDate'] = pd.to_datetime(data['SignupDate'])
data['TransactionDate'] = pd.to_datetime(data['TransactionDate'])
data['CustomerAge'] = (data['TransactionDate'] - data['SignupDate']).dt.days

# Aggregate transaction data by customer
customer_data = data.groupby('CustomerID').agg({
    'TotalValue': 'sum',
    'Quantity': 'sum',
    'CustomerAge': 'mean'
}).reset_index()

# Merge with customer profile data
customer_data = customer_data.merge(customers, on='CustomerID')

# Encode categorical variables
customer_data = pd.get_dummies(customer_data, columns=['Region'])

# Select relevant features
features = customer_data[['TotalValue', 'Quantity', 'CustomerAge'] + [col for col in customer_data.columns if 'Region_' in col]]

# Standardize features
scaler = StandardScaler()
scaled_features = scaler.fit_transform(features)

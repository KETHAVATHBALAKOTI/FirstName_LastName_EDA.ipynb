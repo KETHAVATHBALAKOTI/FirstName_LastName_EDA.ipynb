# FirstName_LastName_Lookalike.ipynb

import pandas as pd
from sklearn.preprocessing import StandardScaler
from sklearn.neighbors import NearestNeighbors

# Load the datasets
customers = pd.read_csv('Customers.csv')
products = pd.read_csv('Products.csv')
transactions = pd.read_csv('Transactions.csv')

# Merge transactions with customers and products data
data = transactions.merge(customers, on='CustomerID').merge(products, on='ProductID')

# Feature engineering
data['SignupDate'] = pd.to_datetime(data['SignupDate'])
data['TransactionDate'] = pd.to_datetime(data['TransactionDate'])
data['CustomerAge'] = (data['TransactionDate'] - data['SignupDate']).dt.days

# Select relevant features
features = data[['CustomerID', 'ProductID', 'Category', 'Price', 'Quantity', 'TotalValue', 'CustomerAge', 'Region']]

# Encode categorical variables
features = pd.get_dummies(features, columns=['Category', 'Region'])

# Standardize features
scaler = StandardScaler()
scaled_features = scaler.fit_transform(features.drop('CustomerID', axis=1))






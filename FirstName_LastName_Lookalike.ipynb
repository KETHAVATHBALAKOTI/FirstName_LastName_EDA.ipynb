# Fit Nearest Neighbors model
model = NearestNeighbors(n_neighbors=3, algorithm='auto')
model.fit(scaled_features)

# Find top 3 lookalikes for the first 20 customers
lookalikes = {}
for cust_id in customers['CustomerID'][:20]:
    cust_features = features[features['CustomerID'] == cust_id].drop('CustomerID', axis=1)
    cust_scaled_features = scaler.transform(cust_features)
    distances, indices = model.kneighbors(cust_scaled_features)
    lookalikes[cust_id] = [(features['CustomerID'][i], distances[0][j]) for j, i in enumerate(indices[0])]

# Save results to CSV
import csv

with open('FirstName_LastName_Lookalike.csv', 'w', newline='') as file:
    writer = csv.writer(file)
    writer.writerow(["cust_id", "lookalikes"])
    for key, value in lookalikes.items():
        writer.writerow([key, value])
# FirstName_LastName_Lookalike.ipynb

import pandas as pd
from sklearn.preprocessing import StandardScaler
from sklearn.neighbors import NearestNeighbors

# Load the datasets
customers = pd.read_csv('Customers.csv')
products = pd.read_csv('Products.csv')
transactions = pd.read_csv('Transactions.csv')

# Merge transactions with customers and products data
data = transactions.merge(customers, on='CustomerID').merge(products, on='ProductID')

# Feature engineering
data['SignupDate'] = pd.to_datetime(data['SignupDate'])
data['TransactionDate'] = pd.to_datetime(data['TransactionDate'])
data['CustomerAge'] = (data['TransactionDate'] - data['SignupDate']).dt.days

# Select relevant features
features = data[['CustomerID', 'ProductID', 'Category', 'Price', 'Quantity', 'TotalValue', 'CustomerAge', 'Region']]

# Encode categorical variables
features = pd.get_dummies(features, columns=['Category', 'Region'])

# Standardize features
scaler = StandardScaler()
scaled_features = scaler.fit_transform(features.drop('CustomerID', axis=1))
